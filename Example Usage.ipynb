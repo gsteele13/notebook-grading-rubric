{
 "cells": [
  {
   "cell_type": "code",
   "execution_count": 1,
   "metadata": {},
   "outputs": [],
   "source": [
    "from parse_grading import *"
   ]
  },
  {
   "cell_type": "markdown",
   "metadata": {},
   "source": [
    "Parse file and create object:"
   ]
  },
  {
   "cell_type": "code",
   "execution_count": null,
   "metadata": {},
   "outputs": [],
   "source": [
    "file = \"Test notebook.ipynb\"\n",
    "a = assignment_rubric(file)"
   ]
  },
  {
   "cell_type": "markdown",
   "metadata": {},
   "source": [
    "Print out summary of manually graded criteria in a user-friendly way:"
   ]
  },
  {
   "cell_type": "code",
   "execution_count": 2,
   "metadata": {},
   "outputs": [
    {
     "name": "stdout",
     "output_type": "stream",
     "text": [
      "Question 1: 6 points\n",
      "    - 1a: 3 points\n",
      "        * 1a1 did some stuff (1)\n",
      "        * 1a2 did some other stuff (2)\n",
      "    - 1b: 3 points\n",
      "        * 1b1 some stuff (3)\n",
      "Question 2: 2 points\n",
      "    - 2a: 2 points\n",
      "        * 2a1 grading inside solution (1)\n",
      "        * 2a2 and some more (1)\n"
     ]
    }
   ],
   "source": [
    "a.print_rubric()"
   ]
  },
  {
   "cell_type": "markdown",
   "metadata": {},
   "source": [
    "A list of dictionaries of the rubric description text and numerical points for programmatic access:"
   ]
  },
  {
   "cell_type": "code",
   "execution_count": 3,
   "metadata": {},
   "outputs": [
    {
     "data": {
      "text/plain": [
       "[{'text': '1a1 did some stuff', 'points': 1},\n",
       " {'text': '1a2 did some other stuff', 'points': 2},\n",
       " {'text': '1b1 some stuff', 'points': 3},\n",
       " {'text': '2a1 grading inside solution', 'points': 1},\n",
       " {'text': '2a2 and some more', 'points': 1}]"
      ]
     },
     "execution_count": 3,
     "metadata": {},
     "output_type": "execute_result"
    }
   ],
   "source": [
    "a.rubric_items"
   ]
  }
 ],
 "metadata": {
  "jupytext": {
   "formats": "ipynb,md"
  },
  "kernelspec": {
   "display_name": "Python 3",
   "language": "python",
   "name": "python3"
  },
  "language_info": {
   "codemirror_mode": {
    "name": "ipython",
    "version": 3
   },
   "file_extension": ".py",
   "mimetype": "text/x-python",
   "name": "python",
   "nbconvert_exporter": "python",
   "pygments_lexer": "ipython3",
   "version": "3.7.5"
  }
 },
 "nbformat": 4,
 "nbformat_minor": 2
}
