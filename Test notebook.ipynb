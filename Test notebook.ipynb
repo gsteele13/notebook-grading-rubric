{
 "cells": [
  {
   "cell_type": "markdown",
   "metadata": {},
   "source": [
    "# A markdown title cell"
   ]
  },
  {
   "cell_type": "code",
   "execution_count": 1,
   "metadata": {},
   "outputs": [],
   "source": [
    "# A code cell\n",
    "\n",
    "### BEGIN GRADING\n",
    "# 1a1 did some stuff; 1\n",
    "# 1a2 did some other stuff; 2\n",
    "### END GRADING"
   ]
  },
  {
   "cell_type": "markdown",
   "metadata": {},
   "source": [
    "Another markdown cell"
   ]
  },
  {
   "cell_type": "code",
   "execution_count": 2,
   "metadata": {},
   "outputs": [],
   "source": [
    "# Another code cell\n",
    "\n",
    "### BEGIN SOLUTION\n",
    "\n",
    "### BEGIN GRADING\n",
    "# 1b1 some stuff; 3\n",
    "### END GRADING\n",
    "\n",
    "### END SOLUTION"
   ]
  },
  {
   "cell_type": "markdown",
   "metadata": {},
   "source": [
    "And another one, this time indented:"
   ]
  },
  {
   "cell_type": "code",
   "execution_count": 3,
   "metadata": {},
   "outputs": [],
   "source": [
    "\n",
    "### BEGIN SOLUTION\n",
    "\n",
    "# some stuff\n",
    "\n",
    "    ### BEGIN GRADING\n",
    "    # 2a1 grading inside solution; 1\n",
    "    # 2a2 and some more; 1\n",
    "    ### END GRADING\n",
    "\n",
    "### END SOLUTION"
   ]
  }
 ],
 "metadata": {
  "kernelspec": {
   "display_name": "Python 3",
   "language": "python",
   "name": "python3"
  },
  "language_info": {
   "codemirror_mode": {
    "name": "ipython",
    "version": 3
   },
   "file_extension": ".py",
   "mimetype": "text/x-python",
   "name": "python",
   "nbconvert_exporter": "python",
   "pygments_lexer": "ipython3",
   "version": "3.7.5"
  }
 },
 "nbformat": 4,
 "nbformat_minor": 2
}
